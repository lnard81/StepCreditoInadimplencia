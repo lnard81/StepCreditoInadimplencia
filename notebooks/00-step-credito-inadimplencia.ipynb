{
 "cells": [
  {
   "cell_type": "markdown",
   "metadata": {},
   "source": [
    "# Título da Análise"
   ]
  },
  {
   "cell_type": "markdown",
   "metadata": {},
   "source": [
    "## Objtetivo"
   ]
  },
  {
   "cell_type": "markdown",
   "metadata": {},
   "source": [
    "..."
   ]
  },
  {
   "cell_type": "markdown",
   "metadata": {},
   "source": [
    "## Metodologia"
   ]
  },
  {
   "cell_type": "markdown",
   "metadata": {},
   "source": [
    "..."
   ]
  },
  {
   "cell_type": "markdown",
   "metadata": {},
   "source": [
    "## Trabalhos de Melhorias"
   ]
  },
  {
   "cell_type": "markdown",
   "metadata": {},
   "source": [
    "..."
   ]
  },
  {
   "cell_type": "markdown",
   "metadata": {},
   "source": [
    "## A Fazer"
   ]
  },
  {
   "cell_type": "markdown",
   "metadata": {},
   "source": [
    "1. \n",
    "1. \n",
    "2. "
   ]
  },
  {
   "cell_type": "markdown",
   "metadata": {},
   "source": [
    "## Resultados/Insights"
   ]
  },
  {
   "cell_type": "markdown",
   "metadata": {},
   "source": [
    "#### Questão 1:"
   ]
  },
  {
   "cell_type": "markdown",
   "metadata": {},
   "source": [
    "..."
   ]
  },
  {
   "cell_type": "markdown",
   "metadata": {},
   "source": [
    "#### Questão 2:"
   ]
  },
  {
   "cell_type": "markdown",
   "metadata": {},
   "source": [
    "..."
   ]
  },
  {
   "cell_type": "markdown",
   "metadata": {},
   "source": [
    "## Próximos passos sugeridos"
   ]
  },
  {
   "cell_type": "markdown",
   "metadata": {},
   "source": [
    "1. \n",
    "2. \n",
    "3. "
   ]
  },
  {
   "cell_type": "markdown",
   "metadata": {},
   "source": [
    "## Import Library"
   ]
  },
  {
   "cell_type": "code",
   "execution_count": 1,
   "metadata": {},
   "outputs": [],
   "source": [
    "# bibliotecas de manipulação\n",
    "import pandas as pd\n",
    "import numpy as np\n",
    "\n",
    "# bibliotecas de visualização\n",
    "import matplotlib as plt\n",
    "import seaborn as sns\n",
    "\n",
    "# bibliotecas de machine learning\n",
    "\n",
    "# outras bibliotecas\n",
    "import datetime\n",
    "import os\n",
    "import warnings"
   ]
  },
  {
   "cell_type": "code",
   "execution_count": 2,
   "metadata": {},
   "outputs": [],
   "source": [
    "# opções para o pandas\n",
    "pd.options.display.max_columns=None\n",
    "pd.options.display.max_rows=None\n",
    "pd.options.mode.use_inf_as_na=True\n",
    "pd.options.display.max_colwidth=None\n",
    "\n",
    "# opções para visualizações\n",
    "%matplotlib inline\n",
    "\n",
    "# opções para Jupyter notebook\n",
    "warnings.filterwarnings('ignore')"
   ]
  },
  {
   "cell_type": "markdown",
   "metadata": {},
   "source": [
    "## Importação de bibliotecas ou classes locais"
   ]
  },
  {
   "cell_type": "code",
   "execution_count": null,
   "metadata": {},
   "outputs": [],
   "source": []
  },
  {
   "cell_type": "markdown",
   "metadata": {},
   "source": [
    "## Definição de Parâmetros"
   ]
  },
  {
   "cell_type": "code",
   "execution_count": null,
   "metadata": {},
   "outputs": [],
   "source": []
  },
  {
   "cell_type": "markdown",
   "metadata": {},
   "source": [
    "## Importação de Dados"
   ]
  },
  {
   "cell_type": "code",
   "execution_count": 3,
   "metadata": {},
   "outputs": [],
   "source": [
    "# importando dados de empresas\n",
    "file='../data/live-university/empresa_dummy.csv' # insira aqui o caminho completo do arquivo\n",
    "df=pd.read_csv(file, header=0, sep=',', encoding='utf-8', decimal=\",\")"
   ]
  },
  {
   "cell_type": "code",
   "execution_count": 4,
   "metadata": {},
   "outputs": [],
   "source": [
    "# importando tabela cnae\n",
    "file='../data/ibge/cnae.xlsx' # insira aqui o caminho completo do arquivo\n",
    "cnae=pd.read_excel(file, sheet_name='CNAE', header=0)\n",
    "cnae=cnae[['Classe', 'Nome Classe', 'Subclasse', 'Nome Subclasse']]\n",
    "cnae['Subclasse']=cnae['Subclasse'].apply(lambda x: x.replace('-', '').replace('/', '')).astype('int')\n",
    "\n",
    "\n",
    "# importando cnaes essenciais segundo tabela obtida do endereço a seguir:\n",
    "file='../data/ibge/cnae-essencial.xlsx' # insira aqui o caminho completo do arquivo\n",
    "cnae_essencial=pd.read_excel(file, sheet_name='Estrutura CNAE Classe', header=1)\n",
    "cnae_essencial=cnae_essencial[['Classe','FEDERAL']]\n",
    "cnae_essencial['atividade_essencial']=cnae_essencial['FEDERAL'].apply(lambda x: 1 if pd.notnull(x) else 0)\n",
    "cnae_essencial.drop(columns=['FEDERAL'], inplace=True)\n",
    "\n",
    "# marcando cnaes com atividades essenciais\n",
    "cnae=cnae.merge(cnae_essencial, how='left', left_on=['Classe'], right_on=['Classe'])\n",
    "cnae=cnae[['Subclasse', 'Nome Subclasse', 'atividade_essencial']]\n",
    "cnae['Nome Subclasse']=cnae['Nome Subclasse'].apply(lambda x: x.upper())\n",
    "cnae.rename(columns={'Subclasse': 'cnae_fiscal'}, inplace=True)\n",
    "del cnae_essencial"
   ]
  },
  {
   "cell_type": "markdown",
   "metadata": {},
   "source": [
    "## Pré Processamento de Dados"
   ]
  },
  {
   "cell_type": "code",
   "execution_count": null,
   "metadata": {},
   "outputs": [],
   "source": []
  },
  {
   "cell_type": "markdown",
   "metadata": {},
   "source": [
    "## Análise de Dados"
   ]
  },
  {
   "cell_type": "code",
   "execution_count": 5,
   "metadata": {},
   "outputs": [
    {
     "data": {
      "text/html": [
       "<div>\n",
       "<style scoped>\n",
       "    .dataframe tbody tr th:only-of-type {\n",
       "        vertical-align: middle;\n",
       "    }\n",
       "\n",
       "    .dataframe tbody tr th {\n",
       "        vertical-align: top;\n",
       "    }\n",
       "\n",
       "    .dataframe thead th {\n",
       "        text-align: right;\n",
       "    }\n",
       "</style>\n",
       "<table border=\"1\" class=\"dataframe\">\n",
       "  <thead>\n",
       "    <tr style=\"text-align: right;\">\n",
       "      <th></th>\n",
       "      <th>Unnamed: 0</th>\n",
       "      <th>cnpj</th>\n",
       "      <th>identificador_matriz_filial</th>\n",
       "      <th>razao_social</th>\n",
       "      <th>nome_fantasia</th>\n",
       "      <th>situacao_cadastral</th>\n",
       "      <th>data_situacao_cadastral</th>\n",
       "      <th>motivo_situacao_cadastral</th>\n",
       "      <th>nome_cidade_exterior</th>\n",
       "      <th>codigo_natureza_juridica</th>\n",
       "      <th>data_inicio_atividade</th>\n",
       "      <th>cnae_fiscal</th>\n",
       "      <th>descricao_tipo_logradouro</th>\n",
       "      <th>logradouro</th>\n",
       "      <th>numero</th>\n",
       "      <th>complemento</th>\n",
       "      <th>bairro</th>\n",
       "      <th>cep</th>\n",
       "      <th>uf</th>\n",
       "      <th>codigo_municipio</th>\n",
       "      <th>municipio</th>\n",
       "      <th>ddd_telefone_1</th>\n",
       "      <th>ddd_telefone_2</th>\n",
       "      <th>ddd_fax</th>\n",
       "      <th>qualificacao_do_responsavel</th>\n",
       "      <th>capital_social</th>\n",
       "      <th>porte</th>\n",
       "      <th>opcao_pelo_simples</th>\n",
       "      <th>data_opcao_pelo_simples</th>\n",
       "      <th>data_exclusao_do_simples</th>\n",
       "      <th>opcao_pelo_mei</th>\n",
       "      <th>situacao_especial</th>\n",
       "      <th>data_situacao_especial</th>\n",
       "      <th>qtd_func</th>\n",
       "      <th>patrimonio</th>\n",
       "      <th>lucro_ultimo_ano(mil)</th>\n",
       "      <th>lucro_ultimos_5_anos</th>\n",
       "      <th>refis</th>\n",
       "      <th>risco</th>\n",
       "      <th>patrimonio_liquido</th>\n",
       "    </tr>\n",
       "  </thead>\n",
       "  <tbody>\n",
       "    <tr>\n",
       "      <th>0</th>\n",
       "      <td>0</td>\n",
       "      <td>36625</td>\n",
       "      <td>2</td>\n",
       "      <td>BANCO DO BRASIL SA</td>\n",
       "      <td>NaN</td>\n",
       "      <td>2</td>\n",
       "      <td>2005-11-03</td>\n",
       "      <td>0</td>\n",
       "      <td>NaN</td>\n",
       "      <td>2038</td>\n",
       "      <td>1966-08-01</td>\n",
       "      <td>6421200</td>\n",
       "      <td>RUA</td>\n",
       "      <td>GONCALVES DIAS</td>\n",
       "      <td>20</td>\n",
       "      <td>NaN</td>\n",
       "      <td>CENTRO</td>\n",
       "      <td>38500000.0</td>\n",
       "      <td>MG</td>\n",
       "      <td>4861</td>\n",
       "      <td>MONTE CARMELO</td>\n",
       "      <td>NaN</td>\n",
       "      <td>NaN</td>\n",
       "      <td>NaN</td>\n",
       "      <td>10</td>\n",
       "      <td>0.0</td>\n",
       "      <td>5</td>\n",
       "      <td>0</td>\n",
       "      <td>NaN</td>\n",
       "      <td>NaN</td>\n",
       "      <td>0</td>\n",
       "      <td>NaN</td>\n",
       "      <td>NaN</td>\n",
       "      <td>378</td>\n",
       "      <td>4736993</td>\n",
       "      <td>-285</td>\n",
       "      <td>146</td>\n",
       "      <td>sim</td>\n",
       "      <td>NaN</td>\n",
       "      <td>274</td>\n",
       "    </tr>\n",
       "    <tr>\n",
       "      <th>1</th>\n",
       "      <td>1</td>\n",
       "      <td>69205</td>\n",
       "      <td>2</td>\n",
       "      <td>BANCO DO BRASIL SA</td>\n",
       "      <td>PORTEIRINHA - PORTEIRINHA (MG)</td>\n",
       "      <td>2</td>\n",
       "      <td>2005-11-03</td>\n",
       "      <td>0</td>\n",
       "      <td>NaN</td>\n",
       "      <td>2038</td>\n",
       "      <td>1969-07-28</td>\n",
       "      <td>6422100</td>\n",
       "      <td>PRACA</td>\n",
       "      <td>CEL. ODILON COELHO</td>\n",
       "      <td>167</td>\n",
       "      <td>-</td>\n",
       "      <td>CENTRO</td>\n",
       "      <td>39520000.0</td>\n",
       "      <td>MG</td>\n",
       "      <td>5043</td>\n",
       "      <td>PORTEIRINHA</td>\n",
       "      <td>NaN</td>\n",
       "      <td>NaN</td>\n",
       "      <td>NaN</td>\n",
       "      <td>10</td>\n",
       "      <td>0.0</td>\n",
       "      <td>5</td>\n",
       "      <td>0</td>\n",
       "      <td>NaN</td>\n",
       "      <td>NaN</td>\n",
       "      <td>0</td>\n",
       "      <td>NaN</td>\n",
       "      <td>NaN</td>\n",
       "      <td>672</td>\n",
       "      <td>1302039</td>\n",
       "      <td>127</td>\n",
       "      <td>55</td>\n",
       "      <td>sim</td>\n",
       "      <td>NaN</td>\n",
       "      <td>2226</td>\n",
       "    </tr>\n",
       "  </tbody>\n",
       "</table>\n",
       "</div>"
      ],
      "text/plain": [
       "   Unnamed: 0   cnpj  identificador_matriz_filial        razao_social  \\\n",
       "0           0  36625                            2  BANCO DO BRASIL SA   \n",
       "1           1  69205                            2  BANCO DO BRASIL SA   \n",
       "\n",
       "                    nome_fantasia  situacao_cadastral data_situacao_cadastral  \\\n",
       "0                             NaN                   2              2005-11-03   \n",
       "1  PORTEIRINHA - PORTEIRINHA (MG)                   2              2005-11-03   \n",
       "\n",
       "   motivo_situacao_cadastral nome_cidade_exterior  codigo_natureza_juridica  \\\n",
       "0                          0                  NaN                      2038   \n",
       "1                          0                  NaN                      2038   \n",
       "\n",
       "  data_inicio_atividade  cnae_fiscal descricao_tipo_logradouro  \\\n",
       "0            1966-08-01      6421200                       RUA   \n",
       "1            1969-07-28      6422100                     PRACA   \n",
       "\n",
       "           logradouro numero complemento  bairro         cep  uf  \\\n",
       "0      GONCALVES DIAS     20         NaN  CENTRO  38500000.0  MG   \n",
       "1  CEL. ODILON COELHO    167           -  CENTRO  39520000.0  MG   \n",
       "\n",
       "   codigo_municipio      municipio ddd_telefone_1 ddd_telefone_2 ddd_fax  \\\n",
       "0              4861  MONTE CARMELO            NaN            NaN     NaN   \n",
       "1              5043    PORTEIRINHA            NaN            NaN     NaN   \n",
       "\n",
       "   qualificacao_do_responsavel capital_social  porte  opcao_pelo_simples  \\\n",
       "0                           10            0.0      5                   0   \n",
       "1                           10            0.0      5                   0   \n",
       "\n",
       "  data_opcao_pelo_simples data_exclusao_do_simples  opcao_pelo_mei  \\\n",
       "0                     NaN                      NaN               0   \n",
       "1                     NaN                      NaN               0   \n",
       "\n",
       "  situacao_especial data_situacao_especial  qtd_func  patrimonio  \\\n",
       "0               NaN                    NaN       378     4736993   \n",
       "1               NaN                    NaN       672     1302039   \n",
       "\n",
       "   lucro_ultimo_ano(mil)  lucro_ultimos_5_anos refis  risco  \\\n",
       "0                   -285                   146   sim    NaN   \n",
       "1                    127                    55   sim    NaN   \n",
       "\n",
       "   patrimonio_liquido  \n",
       "0                 274  \n",
       "1                2226  "
      ]
     },
     "execution_count": 5,
     "metadata": {},
     "output_type": "execute_result"
    }
   ],
   "source": [
    "df.head(2)"
   ]
  },
  {
   "cell_type": "code",
   "execution_count": 6,
   "metadata": {},
   "outputs": [
    {
     "name": "stdout",
     "output_type": "stream",
     "text": [
      "<class 'pandas.core.frame.DataFrame'>\n",
      "RangeIndex: 72169 entries, 0 to 72168\n",
      "Data columns (total 40 columns):\n",
      " #   Column                       Non-Null Count  Dtype  \n",
      "---  ------                       --------------  -----  \n",
      " 0   Unnamed: 0                   72169 non-null  int64  \n",
      " 1   cnpj                         72169 non-null  int64  \n",
      " 2   identificador_matriz_filial  72169 non-null  int64  \n",
      " 3   razao_social                 72169 non-null  object \n",
      " 4   nome_fantasia                36717 non-null  object \n",
      " 5   situacao_cadastral           72169 non-null  int64  \n",
      " 6   data_situacao_cadastral      72169 non-null  object \n",
      " 7   motivo_situacao_cadastral    72169 non-null  int64  \n",
      " 8   nome_cidade_exterior         21 non-null     object \n",
      " 9   codigo_natureza_juridica     72169 non-null  int64  \n",
      " 10  data_inicio_atividade        72169 non-null  object \n",
      " 11  cnae_fiscal                  72169 non-null  int64  \n",
      " 12  descricao_tipo_logradouro    63535 non-null  object \n",
      " 13  logradouro                   66298 non-null  object \n",
      " 14  numero                       65696 non-null  object \n",
      " 15  complemento                  27823 non-null  object \n",
      " 16  bairro                       71460 non-null  object \n",
      " 17  cep                          71746 non-null  object \n",
      " 18  uf                           72169 non-null  object \n",
      " 19  codigo_municipio             72169 non-null  int64  \n",
      " 20  municipio                    72169 non-null  object \n",
      " 21  ddd_telefone_1               39355 non-null  object \n",
      " 22  ddd_telefone_2               10681 non-null  object \n",
      " 23  ddd_fax                      17655 non-null  object \n",
      " 24  qualificacao_do_responsavel  72169 non-null  int64  \n",
      " 25  capital_social               72169 non-null  object \n",
      " 26  porte                        72169 non-null  int64  \n",
      " 27  opcao_pelo_simples           72169 non-null  int64  \n",
      " 28  data_opcao_pelo_simples      29071 non-null  object \n",
      " 29  data_exclusao_do_simples     14356 non-null  object \n",
      " 30  opcao_pelo_mei               72169 non-null  int64  \n",
      " 31  situacao_especial            50 non-null     object \n",
      " 32  data_situacao_especial       50 non-null     object \n",
      " 33  qtd_func                     72169 non-null  int64  \n",
      " 34  patrimonio                   72169 non-null  int64  \n",
      " 35  lucro_ultimo_ano(mil)        72169 non-null  int64  \n",
      " 36  lucro_ultimos_5_anos         72169 non-null  int64  \n",
      " 37  refis                        72169 non-null  object \n",
      " 38  risco                        0 non-null      float64\n",
      " 39  patrimonio_liquido           72169 non-null  int64  \n",
      "dtypes: float64(1), int64(17), object(22)\n",
      "memory usage: 22.0+ MB\n"
     ]
    }
   ],
   "source": [
    "# analisando campos\n",
    "df.info()"
   ]
  },
  {
   "cell_type": "code",
   "execution_count": 7,
   "metadata": {},
   "outputs": [
    {
     "data": {
      "text/plain": [
       "Unnamed: 0                     72169\n",
       "cnpj                           72169\n",
       "identificador_matriz_filial        2\n",
       "razao_social                   71484\n",
       "nome_fantasia                  35537\n",
       "situacao_cadastral                 5\n",
       "data_situacao_cadastral         7508\n",
       "motivo_situacao_cadastral         36\n",
       "nome_cidade_exterior              16\n",
       "codigo_natureza_juridica          57\n",
       "data_inicio_atividade           9290\n",
       "cnae_fiscal                     1092\n",
       "descricao_tipo_logradouro        120\n",
       "logradouro                     38960\n",
       "numero                          6281\n",
       "complemento                    13392\n",
       "bairro                         17264\n",
       "cep                            37998\n",
       "uf                                28\n",
       "codigo_municipio                4905\n",
       "municipio                       4683\n",
       "ddd_telefone_1                 34003\n",
       "ddd_telefone_2                  9801\n",
       "ddd_fax                        13684\n",
       "qualificacao_do_responsavel       24\n",
       "capital_social                   912\n",
       "porte                              4\n",
       "opcao_pelo_simples                 2\n",
       "data_opcao_pelo_simples         1099\n",
       "data_exclusao_do_simples        2296\n",
       "opcao_pelo_mei                     2\n",
       "situacao_especial                  5\n",
       "data_situacao_especial            49\n",
       "qtd_func                         999\n",
       "patrimonio                     71670\n",
       "lucro_ultimo_ano(mil)           1000\n",
       "lucro_ultimos_5_anos            1800\n",
       "refis                              1\n",
       "risco                              0\n",
       "patrimonio_liquido              4999\n",
       "dtype: int64"
      ]
     },
     "execution_count": 7,
     "metadata": {},
     "output_type": "execute_result"
    }
   ],
   "source": [
    "# checando variáveis únicas\n",
    "df.nunique()"
   ]
  },
  {
   "cell_type": "code",
   "execution_count": 8,
   "metadata": {},
   "outputs": [],
   "source": [
    "# removendo variáveis unicas ou que não agregam para previsão\n",
    "remover_features=['Unnamed: 0', 'razao_social', 'nome_fantasia','descricao_tipo_logradouro', 'logradouro', 'numero',\n",
    "                 'complemento', 'bairro', 'cep', 'codigo_municipio', 'municipio', 'ddd_telefone_1',\n",
    "                 'ddd_telefone_2', 'ddd_fax']\n",
    "df.drop(columns=remover_features, inplace=True)"
   ]
  },
  {
   "cell_type": "code",
   "execution_count": 9,
   "metadata": {},
   "outputs": [
    {
     "data": {
      "text/plain": [
       "cnpj                           0.000000\n",
       "identificador_matriz_filial    0.000000\n",
       "situacao_cadastral             0.000000\n",
       "data_situacao_cadastral        0.000000\n",
       "motivo_situacao_cadastral      0.000000\n",
       "nome_cidade_exterior           0.999709\n",
       "codigo_natureza_juridica       0.000000\n",
       "data_inicio_atividade          0.000000\n",
       "cnae_fiscal                    0.000000\n",
       "uf                             0.000000\n",
       "qualificacao_do_responsavel    0.000000\n",
       "capital_social                 0.000000\n",
       "porte                          0.000000\n",
       "opcao_pelo_simples             0.000000\n",
       "data_opcao_pelo_simples        0.597182\n",
       "data_exclusao_do_simples       0.801078\n",
       "opcao_pelo_mei                 0.000000\n",
       "situacao_especial              0.999307\n",
       "data_situacao_especial         0.999307\n",
       "qtd_func                       0.000000\n",
       "patrimonio                     0.000000\n",
       "lucro_ultimo_ano(mil)          0.000000\n",
       "lucro_ultimos_5_anos           0.000000\n",
       "refis                          0.000000\n",
       "risco                          1.000000\n",
       "patrimonio_liquido             0.000000\n",
       "dtype: float64"
      ]
     },
     "execution_count": 9,
     "metadata": {},
     "output_type": "execute_result"
    }
   ],
   "source": [
    "# checando campos em branco\n",
    "df.isna().sum()/df.shape[0]"
   ]
  },
  {
   "cell_type": "markdown",
   "metadata": {},
   "source": [
    "### 1. TRATANDO DADOS DAS EMPRESAS"
   ]
  },
  {
   "cell_type": "code",
   "execution_count": 10,
   "metadata": {},
   "outputs": [],
   "source": [
    "# removendo colunas em branco\n",
    "remover_features=['nome_cidade_exterior', 'data_exclusao_do_simples', 'situacao_especial', 'data_situacao_especial']\n",
    "df.drop(columns=remover_features, inplace=True)\n",
    "\n",
    "\n",
    "# modificando data types para cálculo de datas\n",
    "df['data_inicio_atividade']=pd.to_datetime(df['data_inicio_atividade'], yearfirst=True)\n",
    "df['anos_atividade']=round(\n",
    "    (pd.to_datetime('2020-08-31', yearfirst=True) - df['data_inicio_atividade'])/np.timedelta64(1, 'Y'), 0).astype('int')\n",
    "\n",
    "\n",
    "# adicionando marcação de cnaes de atividades essenciais\n",
    "df=df.merge(cnae, how='left', left_on=['cnae_fiscal'], right_on=['cnae_fiscal'])\n",
    "# assumindo cnaes não localizados como 0 (zero)\n",
    "df['atividade_essencial'].fillna(0, inplace=True)\n",
    "\n",
    "# removendo colunas do dataframe de empresas pós join\n",
    "remover_features=['cnpj', 'situacao_cadastral', 'motivo_situacao_cadastral', 'data_opcao_pelo_simples'\n",
    "                  , 'data_inicio_atividade', 'data_situacao_cadastral', 'cnae_fiscal']\n",
    "df.drop(columns=remover_features, inplace=True)\n",
    "df.rename(columns={'Nome Subclasse': 'cnae_fiscal'}, inplace=True)"
   ]
  },
  {
   "cell_type": "markdown",
   "metadata": {},
   "source": [
    "### 2. GERANDO FEATURES ADICIONAIS"
   ]
  },
  {
   "cell_type": "code",
   "execution_count": 11,
   "metadata": {},
   "outputs": [],
   "source": [
    "# calculando alavancagem\n",
    "df['alavancagem']=round(df.apply(lambda x: x['patrimonio']/x['patrimonio_liquido'], axis=1), 0)\n",
    "\n",
    "# calculando o lucro por funcionário\n",
    "df['lucro_por_funcionario']=round(df.apply(lambda x: x['lucro_ultimo_ano(mil)']*1000/x['qtd_func'], axis=1), 0)\n",
    "\n",
    "# rentabilidade do ativo\n",
    "df['rentabilidade_ativo']=round(df.apply(lambda x: x['lucro_ultimo_ano(mil)']*1000/x['patrimonio'], axis=1), 4)\n",
    "\n",
    "# rentabilidade do patrimônio líquido\n",
    "df['rentabilidade_patrimonio_liquido']=round(df.apply(lambda x:\n",
    "                                                      x['lucro_ultimo_ano(mil)']/x['patrimonio_liquido'], axis=1), 4)\n",
    "\n",
    "# índice comparativo de comparabilidade do lucro do último ano com o lucro dos últimos 5 anos (1=Aumentando, 0=Reduzindo)\n",
    "df['indicador_crescimento_lucro']=df.apply(\n",
    "    lambda x: 1 if x['lucro_ultimo_ano(mil)'] > (x['lucro_ultimos_5_anos']/5) else 0, axis=1)"
   ]
  },
  {
   "cell_type": "code",
   "execution_count": 12,
   "metadata": {},
   "outputs": [
    {
     "name": "stdout",
     "output_type": "stream",
     "text": [
      "Quantis da feature: alavancagem\n",
      "0.2        400.0\n",
      "0.4        799.0\n",
      "0.6       1248.0\n",
      "0.8       2498.0\n",
      "1.0    3196140.0\n",
      "Name: alavancagem, dtype: float64 \n",
      "\n",
      "Quantis da feature: lucro_por_funcionario\n",
      "0.2      -622.0\n",
      "0.4      -200.0\n",
      "0.6       201.0\n",
      "0.8       628.0\n",
      "1.0    476000.0\n",
      "Name: lucro_por_funcionario, dtype: float64 \n",
      "\n",
      "Quantis da feature: rentabilidade_ativo\n",
      "0.2      -0.12490\n",
      "0.4      -0.04010\n",
      "0.6       0.04020\n",
      "0.8       0.12524\n",
      "1.0    9469.38780\n",
      "Name: rentabilidade_ativo, dtype: float64 \n",
      "\n",
      "Quantis da feature: rentabilidade_patrimonio_liquido\n",
      "0.2     -0.1248\n",
      "0.4     -0.0407\n",
      "0.6      0.0399\n",
      "0.8      0.1246\n",
      "1.0    428.0000\n",
      "Name: rentabilidade_patrimonio_liquido, dtype: float64 \n",
      "\n"
     ]
    }
   ],
   "source": [
    "# calculando os quantis das colunas criadas\n",
    "quantis=['alavancagem', 'lucro_por_funcionario', 'rentabilidade_ativo', 'rentabilidade_patrimonio_liquido']\n",
    "\n",
    "for i in quantis:\n",
    "    print('Quantis da feature: {}'.format(i))\n",
    "    print(df[i].quantile([0.2, 0.4, 0.6, 0.8, 1]), '\\n')"
   ]
  },
  {
   "cell_type": "code",
   "execution_count": 13,
   "metadata": {},
   "outputs": [
    {
     "name": "stdout",
     "output_type": "stream",
     "text": [
      "Variável: atividade_essencial\n",
      "0.0    37750\n",
      "1.0    34419\n",
      "Name: atividade_essencial, dtype: int64 \n",
      "\n",
      "Variável: refis\n",
      "sim    72169\n",
      "Name: refis, dtype: int64 \n",
      "\n",
      "Variável: indicador_crescimento_lucro\n",
      "0    36086\n",
      "1    36083\n",
      "Name: indicador_crescimento_lucro, dtype: int64 \n",
      "\n"
     ]
    }
   ],
   "source": [
    "# análise de variáveis binárias\n",
    "binarias=['atividade_essencial', 'refis', 'indicador_crescimento_lucro']\n",
    "\n",
    "for i in binarias:\n",
    "    print('Variável: {}'.format(i))\n",
    "    print(df[i].value_counts(), '\\n')"
   ]
  },
  {
   "cell_type": "markdown",
   "metadata": {},
   "source": [
    "Como a variável 'refis' só tem uma categoria ela não ajuda a decidir acerca do score, e pode ser retirada."
   ]
  },
  {
   "cell_type": "markdown",
   "metadata": {},
   "source": [
    "### 3.PARAMETRIZANDO O DICIONÁRIO DE VALORES DE SCORAGEM"
   ]
  },
  {
   "cell_type": "code",
   "execution_count": 14,
   "metadata": {},
   "outputs": [],
   "source": [
    "# parâmetros de pontos de score em função das faixas de corte das variáveis. Parametrizar do menor para o maior.\n",
    "# a função de cálculo irá comparar o valor do dataframe com a chave do dicionário utilizando \"<\".\n",
    "dic_features_score={\n",
    "    'anos_atividade':{3: 0, 9: 2, 21: 5, 31: 8, 999999: 10},\n",
    "    'atividade_essencial':{1: 0, 999999: 5},\n",
    "    'lucro_por_funcionario': {-622: 0, -200: 2, 201: 4, 628: 6, 999999: 8},\n",
    "    'rentabilidade_ativo': {-0.12490: 0, -0.04010: 3, 0.04020: 6, 0.12524: 9, 999999: 12},\n",
    "    'rentabilidade_patrimonio_liquido': {-0.1248: 0, -0.0407: 3, 0.0399: 6, 0.1246: 9, 999999: 12},\n",
    "    'atividade_essencial': {1:0, 999999: 5},\n",
    "    'indicador_crescimento_lucro': {1: 0, 999999: 5}\n",
    "}\n",
    "\n",
    "# função para calcular o score a partir do dicionário\n",
    "def calcularScore(df, features):\n",
    "    score=0\n",
    "    for i in features:\n",
    "        valor_dataframe = df[i]\n",
    "        for valor_referencia, pontos in dic_features_score[i].items():\n",
    "            if valor_dataframe < valor_referencia:\n",
    "                score+=pontos\n",
    "                break\n",
    "    return score"
   ]
  },
  {
   "cell_type": "markdown",
   "metadata": {},
   "source": [
    "### 4.CALCULANDO RISCO EM FUNÇÃO DOS PARÂMETROS DO DICIONÁRIO DE SCORAGEM"
   ]
  },
  {
   "cell_type": "code",
   "execution_count": 15,
   "metadata": {},
   "outputs": [],
   "source": [
    "# Quanto maior o score da empresa, maior as condições economico financeiras para honrar a dívida\n",
    "variaveis=dic_features_score.keys()\n",
    "df['risco']=df.apply(lambda x: calcularScore(x, variaveis), axis=1)"
   ]
  },
  {
   "cell_type": "code",
   "execution_count": 16,
   "metadata": {},
   "outputs": [
    {
     "data": {
      "text/html": [
       "<div>\n",
       "<style scoped>\n",
       "    .dataframe tbody tr th:only-of-type {\n",
       "        vertical-align: middle;\n",
       "    }\n",
       "\n",
       "    .dataframe tbody tr th {\n",
       "        vertical-align: top;\n",
       "    }\n",
       "\n",
       "    .dataframe thead th {\n",
       "        text-align: right;\n",
       "    }\n",
       "</style>\n",
       "<table border=\"1\" class=\"dataframe\">\n",
       "  <thead>\n",
       "    <tr style=\"text-align: right;\">\n",
       "      <th></th>\n",
       "      <th>0</th>\n",
       "      <th>1</th>\n",
       "      <th>2</th>\n",
       "      <th>3</th>\n",
       "      <th>4</th>\n",
       "      <th>5</th>\n",
       "      <th>6</th>\n",
       "      <th>7</th>\n",
       "      <th>8</th>\n",
       "      <th>9</th>\n",
       "    </tr>\n",
       "  </thead>\n",
       "  <tbody>\n",
       "    <tr>\n",
       "      <th>index</th>\n",
       "      <td>(-0.052, 5.2]</td>\n",
       "      <td>(5.2, 10.4]</td>\n",
       "      <td>(10.4, 15.6]</td>\n",
       "      <td>(15.6, 20.8]</td>\n",
       "      <td>(20.8, 26.0]</td>\n",
       "      <td>(26.0, 31.2]</td>\n",
       "      <td>(31.2, 36.4]</td>\n",
       "      <td>(36.4, 41.6]</td>\n",
       "      <td>(41.6, 46.8]</td>\n",
       "      <td>(46.8, 52.0]</td>\n",
       "    </tr>\n",
       "    <tr>\n",
       "      <th>risco</th>\n",
       "      <td>0.0238191</td>\n",
       "      <td>0.108232</td>\n",
       "      <td>0.156799</td>\n",
       "      <td>0.105114</td>\n",
       "      <td>0.113497</td>\n",
       "      <td>0.0659563</td>\n",
       "      <td>0.0841497</td>\n",
       "      <td>0.145617</td>\n",
       "      <td>0.143524</td>\n",
       "      <td>0.0532916</td>\n",
       "    </tr>\n",
       "  </tbody>\n",
       "</table>\n",
       "</div>"
      ],
      "text/plain": [
       "                   0            1             2             3             4  \\\n",
       "index  (-0.052, 5.2]  (5.2, 10.4]  (10.4, 15.6]  (15.6, 20.8]  (20.8, 26.0]   \n",
       "risco      0.0238191     0.108232      0.156799      0.105114      0.113497   \n",
       "\n",
       "                  5             6             7             8             9  \n",
       "index  (26.0, 31.2]  (31.2, 36.4]  (36.4, 41.6]  (41.6, 46.8]  (46.8, 52.0]  \n",
       "risco     0.0659563     0.0841497      0.145617      0.143524     0.0532916  "
      ]
     },
     "execution_count": 16,
     "metadata": {},
     "output_type": "execute_result"
    },
    {
     "data": {
      "image/png": "[encoded data removed]",
      "text/plain": [
       "<Figure size 2592x576 with 1 Axes>"
      ]
     },
     "metadata": {
      "needs_background": "light"
     },
     "output_type": "display_data"
    }
   ],
   "source": [
    "out=pd.cut(df['risco'], bins=10).value_counts(sort=False)\n",
    "out=out/out.sum()\n",
    "ax = out.plot.bar(rot=90, color='gray',figsize=(36,8))\n",
    "ax.set_facecolor(\"#F1F3F4\")\n",
    "ax.grid(color=\"black\", alpha=.2, linewidth=2, linestyle=\":\", zorder=0)\n",
    "ax.tick_params(axis='both', which='major', labelsize=25, colors='black')\n",
    "ax.set_title('% de Empresas por Faixa de Scoragem', fontsize=30)\n",
    "ax.get_yaxis().set_visible(True)\n",
    "ax.set_xlabel(xlabel=\"Faixa de scoragem\", fontsize=25, color='gray')\n",
    "ax.set_ylabel(ylabel=\"% de Empresas\", fontsize=25, color='gray')\n",
    "out.reset_index().T"
   ]
  }
 ],
 "metadata": {
  "kernelspec": {
   "display_name": "Python 3",
   "language": "python",
   "name": "python3"
  },
  "language_info": {
   "codemirror_mode": {
    "name": "ipython",
    "version": 3
   },
   "file_extension": ".py",
   "mimetype": "text/x-python",
   "name": "python",
   "nbconvert_exporter": "python",
   "pygments_lexer": "ipython3",
   "version": "3.7.6"
  }
 },
 "nbformat": 4,
 "nbformat_minor": 4
}
